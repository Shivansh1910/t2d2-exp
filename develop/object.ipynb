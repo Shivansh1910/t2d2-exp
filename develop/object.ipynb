{
 "cells": [
  {
   "cell_type": "code",
   "execution_count": 1,
   "metadata": {},
   "outputs": [
    {
     "name": "stdout",
     "output_type": "stream",
     "text": [
      "Requirement already satisfied: opencv-python in /home/shivansh/Desktop/startup/t2d2/env/lib/python3.8/site-packages (4.8.1.78)\n",
      "Requirement already satisfied: numpy>=1.17.0; python_version >= \"3.7\" in /home/shivansh/Desktop/startup/t2d2/env/lib/python3.8/site-packages (from opencv-python) (1.24.3)\n",
      "Note: you may need to restart the kernel to use updated packages.\n",
      "Requirement already satisfied: ipywidgets in /home/shivansh/Desktop/startup/t2d2/env/lib/python3.8/site-packages (8.1.1)\n",
      "Requirement already satisfied: ipython>=6.1.0 in /home/shivansh/Desktop/startup/t2d2/env/lib/python3.8/site-packages (from ipywidgets) (8.12.3)\n",
      "Requirement already satisfied: widgetsnbextension~=4.0.9 in /home/shivansh/Desktop/startup/t2d2/env/lib/python3.8/site-packages (from ipywidgets) (4.0.9)\n",
      "Requirement already satisfied: traitlets>=4.3.1 in /home/shivansh/Desktop/startup/t2d2/env/lib/python3.8/site-packages (from ipywidgets) (5.14.0)\n",
      "Requirement already satisfied: jupyterlab-widgets~=3.0.9 in /home/shivansh/Desktop/startup/t2d2/env/lib/python3.8/site-packages (from ipywidgets) (3.0.9)\n",
      "Requirement already satisfied: comm>=0.1.3 in /home/shivansh/Desktop/startup/t2d2/env/lib/python3.8/site-packages (from ipywidgets) (0.2.0)\n",
      "Requirement already satisfied: typing-extensions; python_version < \"3.10\" in /home/shivansh/Desktop/startup/t2d2/env/lib/python3.8/site-packages (from ipython>=6.1.0->ipywidgets) (4.5.0)\n",
      "Requirement already satisfied: backcall in /home/shivansh/Desktop/startup/t2d2/env/lib/python3.8/site-packages (from ipython>=6.1.0->ipywidgets) (0.2.0)\n",
      "Requirement already satisfied: pickleshare in /home/shivansh/Desktop/startup/t2d2/env/lib/python3.8/site-packages (from ipython>=6.1.0->ipywidgets) (0.7.5)\n",
      "Requirement already satisfied: decorator in /home/shivansh/Desktop/startup/t2d2/env/lib/python3.8/site-packages (from ipython>=6.1.0->ipywidgets) (5.1.1)\n",
      "Requirement already satisfied: jedi>=0.16 in /home/shivansh/Desktop/startup/t2d2/env/lib/python3.8/site-packages (from ipython>=6.1.0->ipywidgets) (0.19.1)\n",
      "Requirement already satisfied: stack-data in /home/shivansh/Desktop/startup/t2d2/env/lib/python3.8/site-packages (from ipython>=6.1.0->ipywidgets) (0.6.3)\n",
      "Requirement already satisfied: pygments>=2.4.0 in /home/shivansh/Desktop/startup/t2d2/env/lib/python3.8/site-packages (from ipython>=6.1.0->ipywidgets) (2.17.2)\n",
      "Requirement already satisfied: prompt-toolkit!=3.0.37,<3.1.0,>=3.0.30 in /home/shivansh/Desktop/startup/t2d2/env/lib/python3.8/site-packages (from ipython>=6.1.0->ipywidgets) (3.0.41)\n",
      "Requirement already satisfied: matplotlib-inline in /home/shivansh/Desktop/startup/t2d2/env/lib/python3.8/site-packages (from ipython>=6.1.0->ipywidgets) (0.1.6)\n",
      "Requirement already satisfied: pexpect>4.3; sys_platform != \"win32\" in /home/shivansh/Desktop/startup/t2d2/env/lib/python3.8/site-packages (from ipython>=6.1.0->ipywidgets) (4.9.0)\n",
      "Requirement already satisfied: parso<0.9.0,>=0.8.3 in /home/shivansh/Desktop/startup/t2d2/env/lib/python3.8/site-packages (from jedi>=0.16->ipython>=6.1.0->ipywidgets) (0.8.3)\n",
      "Requirement already satisfied: asttokens>=2.1.0 in /home/shivansh/Desktop/startup/t2d2/env/lib/python3.8/site-packages (from stack-data->ipython>=6.1.0->ipywidgets) (2.4.1)\n",
      "Requirement already satisfied: pure-eval in /home/shivansh/Desktop/startup/t2d2/env/lib/python3.8/site-packages (from stack-data->ipython>=6.1.0->ipywidgets) (0.2.2)\n",
      "Requirement already satisfied: executing>=1.2.0 in /home/shivansh/Desktop/startup/t2d2/env/lib/python3.8/site-packages (from stack-data->ipython>=6.1.0->ipywidgets) (2.0.1)\n",
      "Requirement already satisfied: wcwidth in /home/shivansh/Desktop/startup/t2d2/env/lib/python3.8/site-packages (from prompt-toolkit!=3.0.37,<3.1.0,>=3.0.30->ipython>=6.1.0->ipywidgets) (0.2.12)\n",
      "Requirement already satisfied: ptyprocess>=0.5 in /home/shivansh/Desktop/startup/t2d2/env/lib/python3.8/site-packages (from pexpect>4.3; sys_platform != \"win32\"->ipython>=6.1.0->ipywidgets) (0.7.0)\n",
      "Requirement already satisfied: six>=1.12.0 in /home/shivansh/Desktop/startup/t2d2/env/lib/python3.8/site-packages (from asttokens>=2.1.0->stack-data->ipython>=6.1.0->ipywidgets) (1.16.0)\n",
      "Note: you may need to restart the kernel to use updated packages.\n",
      "Requirement already satisfied: joblib in /home/shivansh/Desktop/startup/t2d2/env/lib/python3.8/site-packages (1.3.2)\n",
      "Note: you may need to restart the kernel to use updated packages.\n"
     ]
    }
   ],
   "source": [
    "%pip install opencv-python\n",
    "%pip install ipywidgets\n",
    "%pip install joblib\n"
   ]
  },
  {
   "cell_type": "code",
   "execution_count": 2,
   "metadata": {},
   "outputs": [
    {
     "name": "stderr",
     "output_type": "stream",
     "text": [
      "2023-11-29 13:36:50.144398: I tensorflow/core/platform/cpu_feature_guard.cc:182] This TensorFlow binary is optimized to use available CPU instructions in performance-critical operations.\n",
      "To enable the following instructions: AVX2 FMA, in other operations, rebuild TensorFlow with the appropriate compiler flags.\n",
      "2023-11-29 13:36:51.377862: W tensorflow/compiler/tf2tensorrt/utils/py_utils.cc:38] TF-TRT Warning: Could not find TensorRT\n"
     ]
    }
   ],
   "source": [
    "import numpy as np\n",
    "import tensorflow as tf\n",
    "import os\n",
    "from IPython.display import display\n",
    "import PIL.Image\n",
    "import ipywidgets as widgets\n",
    "from threading import Thread\n",
    "import cv2\n",
    "import joblib"
   ]
  },
  {
   "cell_type": "code",
   "execution_count": 3,
   "metadata": {},
   "outputs": [
    {
     "name": "stdout",
     "output_type": "stream",
     "text": [
      "model_path: /home/shivansh/Desktop/startup/t2d2/models/yolov8n_float32.tflite\n"
     ]
    }
   ],
   "source": [
    "CWD = os.getcwd()\n",
    "model_path = os.path.join(CWD, \"..\" ,\"models\", \"yolov8n_float32.tflite\")\n",
    "model_path = os.path.abspath(model_path)\n",
    "print(\"model_path:\" , model_path)\n"
   ]
  },
  {
   "cell_type": "code",
   "execution_count": 4,
   "metadata": {},
   "outputs": [
    {
     "name": "stderr",
     "output_type": "stream",
     "text": [
      "INFO: Created TensorFlow Lite XNNPACK delegate for CPU.\n"
     ]
    }
   ],
   "source": [
    "# Load the TFLite model and allocate tensors.\n",
    "interpreter = tf.lite.Interpreter(model_path=model_path)\n",
    "interpreter.allocate_tensors()"
   ]
  },
  {
   "cell_type": "code",
   "execution_count": 5,
   "metadata": {},
   "outputs": [],
   "source": [
    "# Get input and output tensors.\n",
    "input_details = interpreter.get_input_details()\n",
    "output_details = interpreter.get_output_details()"
   ]
  },
  {
   "cell_type": "code",
   "execution_count": null,
   "metadata": {},
   "outputs": [],
   "source": [
    "# Create a widget for displaying the camera feed\n",
    "image_widget = widgets.Image(format='jpeg', width=300, height=300)"
   ]
  },
  {
   "cell_type": "code",
   "execution_count": null,
   "metadata": {},
   "outputs": [],
   "source": [
    "# Function to update the image widget with the processed frame\n",
    "def update_image_widget(frame):\n",
    "    _, buffer = cv2.imencode('.jpeg', cv2.cvtColor(frame, cv2.COLOR_BGR2RGB))\n",
    "    image_widget.value = buffer.tobytes()"
   ]
  },
  {
   "cell_type": "code",
   "execution_count": null,
   "metadata": {},
   "outputs": [],
   "source": [
    "\n",
    "def write_detection_result(detection):\n",
    "    file_path = os.path.join(CWD, \"..\" ,\"logs\", \"detection.txt\")\n",
    "    file_path = os.path.abspath(file_path)\n",
    "    # with open(file_path, \"a\") as f:\n",
    "    #     f.write(str(detection) + \"\\n\")\n",
    "    #     f.close()\n",
    "    \n",
    "    \n",
    "    # create pickle file\n",
    "    with open(file_path, \"wb\") as f:\n",
    "        joblib.dump(detection, f)\n",
    "    \n",
    "    return\n",
    "\n",
    "def save_frame(frame):\n",
    "    file_path = os.path.join(CWD, \"..\" ,\"logs\", \"frame.jpg\")\n",
    "    file_path = os.path.abspath(file_path)\n",
    "    cv2.imwrite(file_path, frame)\n",
    "    return\n",
    "\n",
    "\n",
    "# Function to perform object detection and update the image widget\n",
    "def detect_objects():\n",
    "    cap = cv2.VideoCapture(0)\n",
    "\n",
    "    while True:\n",
    "        ret, frame = cap.read()\n",
    "            \n",
    "        #detect object from image\n",
    "        \n",
    "        # frame = cv2.imread(\"temp.jpg\")   \n",
    "        \n",
    "        # Object detection\n",
    "        input_data = preprocess_input(frame)\n",
    "        print(\"input_data:\", input_data.shape)\n",
    "        interpreter.set_tensor(input_details[0]['index'], input_data)\n",
    "        interpreter.invoke()\n",
    "        output_data = interpreter.get_tensor(output_details[0]['index'])\n",
    "        print(\"output_data\", output_data.shape)\n",
    "        \n",
    "\n",
    "        process_output(frame, output_data)\n",
    "        update_image_widget(frame)\n",
    "        \n",
    "        save_frame(frame)\n",
    "        \n",
    "\n",
    "# Function to preprocess input frame for the TFLite model\n",
    "def preprocess_input(frame):\n",
    "    input_shape = input_details[0]['shape']\n",
    "    input_data = cv2.resize(frame, (input_shape[1], input_shape[2]))\n",
    "    input_data = np.expand_dims(input_data, axis=0)\n",
    "    input_data = input_data.astype(np.float32)\n",
    "    return input_data\n",
    "\n",
    "# Function to process the output of the TFLite model\n",
    "def process_output(frame, output_data):\n",
    "          \n",
    "    # save detection result without trunkating the array\n",
    "    write_detection_result(output_data[0])\n",
    "        \n",
    "    for detection in output_data[0]:\n",
    "        print(detection.shape)\n",
    "        class_probs = detection[5:]  # Adjust the index based on your model\n",
    "        class_id = np.argmax(class_probs)\n",
    "        score = class_probs[class_id]\n",
    "            \n",
    "\n",
    "        if score > 0.5:  # Adjust the threshold as needed\n",
    "            box = detection[0:4] * np.array([frame.shape[1], frame.shape[0], frame.shape[1], frame.shape[0]])\n",
    "            (startX, startY, endX, endY) = box.astype(\"int\")\n",
    "            cv2.rectangle(frame, (startX, startY), (endX, endY), (0, 255, 0), 2)\n",
    "            label = f\"Class: {class_id}, Score: {score:.2f}\"\n",
    "            cv2.putText(frame, label, (startX, startY - 10), cv2.FONT_HERSHEY_SIMPLEX, 0.5, (0, 255, 0), 2)\n"
   ]
  },
  {
   "cell_type": "code",
   "execution_count": null,
   "metadata": {},
   "outputs": [],
   "source": [
    "# # Start the object detection thread\n",
    "# object_detection_thread = Thread(target=detect_objects)\n",
    "# object_detection_thread.start()\n",
    "\n",
    "# # Display the image widget\n",
    "# display(image_widget)\n",
    "detect_objects()"
   ]
  },
  {
   "cell_type": "code",
   "execution_count": null,
   "metadata": {},
   "outputs": [],
   "source": [
    "import joblib\n",
    "with open(\"/home/shivansh/Desktop/startup/t2d2/logs/detection.txt\", \"rb\") as f:\n",
    "    detection = joblib.load(f)\n",
    "    print(\"detection:\", detection)"
   ]
  },
  {
   "cell_type": "code",
   "execution_count": null,
   "metadata": {},
   "outputs": [],
   "source": [
    "detection.__class__.__name__\n",
    "\n",
    "detection.shape"
   ]
  },
  {
   "cell_type": "code",
   "execution_count": null,
   "metadata": {},
   "outputs": [],
   "source": [
    "#  print detection without truncation\n",
    "import sys\n",
    "import numpy\n",
    "numpy.set_printoptions(threshold=sys.maxsize)\n",
    "\n",
    "detection"
   ]
  },
  {
   "cell_type": "code",
   "execution_count": null,
   "metadata": {},
   "outputs": [],
   "source": [
    "# reshape to 1D array\n",
    "detection = detection.reshape(-1)"
   ]
  },
  {
   "cell_type": "code",
   "execution_count": null,
   "metadata": {},
   "outputs": [],
   "source": [
    "%pip install matplotlib"
   ]
  },
  {
   "cell_type": "code",
   "execution_count": null,
   "metadata": {},
   "outputs": [],
   "source": [
    "# scatter log plot\n",
    "import matplotlib.pyplot as plt\n",
    "plt.scatter(range(len(detection)), detection)\n"
   ]
  },
  {
   "cell_type": "code",
   "execution_count": null,
   "metadata": {},
   "outputs": [],
   "source": []
  }
 ],
 "metadata": {
  "kernelspec": {
   "display_name": "env",
   "language": "python",
   "name": "python3"
  },
  "language_info": {
   "codemirror_mode": {
    "name": "ipython",
    "version": 3
   },
   "file_extension": ".py",
   "mimetype": "text/x-python",
   "name": "python",
   "nbconvert_exporter": "python",
   "pygments_lexer": "ipython3",
   "version": "3.8.10"
  }
 },
 "nbformat": 4,
 "nbformat_minor": 2
}
